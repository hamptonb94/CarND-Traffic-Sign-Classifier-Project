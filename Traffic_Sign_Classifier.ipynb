{
 "cells": [
  {
   "cell_type": "markdown",
   "metadata": {},
   "source": [
    "# Self-Driving Car Engineer Nanodegree\n",
    "\n",
    "## Deep Learning\n",
    "\n",
    "## Project: Build a Traffic Sign Recognition Classifier\n",
    "\n",
    "In this notebook, a template is provided for you to implement your functionality in stages which is required to successfully complete this project. If additional code is required that cannot be included in the notebook, be sure that the Python code is successfully imported and included in your submission, if necessary. Sections that begin with **'Implementation'** in the header indicate where you should begin your implementation for your project. Note that some sections of implementation are optional, and will be marked with **'Optional'** in the header.\n",
    "\n",
    "In addition to implementing code, there will be questions that you must answer which relate to the project and your implementation. Each section where you will answer a question is preceded by a **'Question'** header. Carefully read each question and provide thorough answers in the following text boxes that begin with **'Answer:'**. Your project submission will be evaluated based on your answers to each of the questions and the implementation you provide.\n",
    "\n",
    ">**Note:** Code and Markdown cells can be executed using the **Shift + Enter** keyboard shortcut. In addition, Markdown cells can be edited by typically double-clicking the cell to enter edit mode."
   ]
  },
  {
   "cell_type": "markdown",
   "metadata": {},
   "source": [
    "---\n",
    "## Step 0: Load The Data"
   ]
  },
  {
   "cell_type": "code",
   "execution_count": 1,
   "metadata": {
    "collapsed": false
   },
   "outputs": [
    {
     "name": "stdout",
     "output_type": "stream",
     "text": [
      "Data Loaded.\n"
     ]
    }
   ],
   "source": [
    "# Load pickled data\n",
    "import pickle\n",
    "\n",
    "# TODO: Fill this in based on where you saved the training and testing data\n",
    "\n",
    "training_file = 'train.p'\n",
    "testing_file = 'test.p'\n",
    "\n",
    "with open(training_file, mode='rb') as f:\n",
    "    train = pickle.load(f)\n",
    "with open(testing_file, mode='rb') as f:\n",
    "    test = pickle.load(f)\n",
    "    \n",
    "X_train, y_train = train['features'], train['labels']\n",
    "X_test, y_test = test['features'], test['labels']\n",
    "\n",
    "print(\"Data Loaded.\")"
   ]
  },
  {
   "cell_type": "markdown",
   "metadata": {},
   "source": [
    "---\n",
    "\n",
    "## Step 1: Dataset Summary & Exploration\n",
    "\n",
    "The pickled data is a dictionary with 4 key/value pairs:\n",
    "\n",
    "- `'features'` is a 4D array containing raw pixel data of the traffic sign images, (num examples, width, height, channels).\n",
    "- `'labels'` is a 2D array containing the label/class id of the traffic sign. The file `signnames.csv` contains id -> name mappings for each id.\n",
    "- `'sizes'` is a list containing tuples, (width, height) representing the the original width and height the image.\n",
    "- `'coords'` is a list containing tuples, (x1, y1, x2, y2) representing coordinates of a bounding box around the sign in the image. **THESE COORDINATES ASSUME THE ORIGINAL IMAGE. THE PICKLED DATA CONTAINS RESIZED VERSIONS (32 by 32) OF THESE IMAGES**\n",
    "\n",
    "Complete the basic data summary below."
   ]
  },
  {
   "cell_type": "code",
   "execution_count": 2,
   "metadata": {
    "collapsed": false
   },
   "outputs": [
    {
     "name": "stdout",
     "output_type": "stream",
     "text": [
      "Number of training examples = 39209\n",
      "Number of testing examples = 12630\n",
      "Image data shape = (32, 32, 3)\n",
      "Number of classes = 43\n"
     ]
    }
   ],
   "source": [
    "### Replace each question mark with the appropriate value.\n",
    "\n",
    "# TODO: Number of training examples\n",
    "n_train = len(X_train)\n",
    "\n",
    "# TODO: Number of testing examples.\n",
    "n_test = len(X_test)\n",
    "\n",
    "# TODO: What's the shape of an traffic sign image?\n",
    "image_shape = X_train[0].shape\n",
    "\n",
    "# TODO: How many unique classes/labels there are in the dataset.\n",
    "n_classes = max(y_train)+1\n",
    "\n",
    "print(\"Number of training examples =\", n_train)\n",
    "print(\"Number of testing examples =\", n_test)\n",
    "print(\"Image data shape =\", image_shape)\n",
    "print(\"Number of classes =\", n_classes)"
   ]
  },
  {
   "cell_type": "markdown",
   "metadata": {},
   "source": [
    "Visualize the German Traffic Signs Dataset using the pickled file(s). This is open ended, suggestions include: plotting traffic sign images, plotting the count of each sign, etc.\n",
    "\n",
    "The [Matplotlib](http://matplotlib.org/) [examples](http://matplotlib.org/examples/index.html) and [gallery](http://matplotlib.org/gallery.html) pages are a great resource for doing visualizations in Python.\n",
    "\n",
    "**NOTE:** It's recommended you start with something simple first. If you wish to do more, come back to it after you've completed the rest of the sections."
   ]
  },
  {
   "cell_type": "code",
   "execution_count": 3,
   "metadata": {
    "collapsed": false
   },
   "outputs": [
    {
     "data": {
      "image/png": "[encoded data removed]",
      "text/plain": [
       "<matplotlib.figure.Figure at 0x7fe3fc0de518>"
      ]
     },
     "metadata": {},
     "output_type": "display_data"
    },
    {
     "data": {
      "image/png": "[encoded data removed]",
      "text/plain": [
       "<matplotlib.figure.Figure at 0x7fe3e523b630>"
      ]
     },
     "metadata": {},
     "output_type": "display_data"
    }
   ],
   "source": [
    "### Data exploration visualization goes here.\n",
    "### Feel free to use as many code cells as needed.\n",
    "import random\n",
    "import numpy as np\n",
    "import matplotlib.pyplot as plt\n",
    "# Visualizations will be shown in the notebook.\n",
    "%matplotlib inline\n",
    "\n",
    "# plot a random image\n",
    "index = random.randint(0, len(X_train))\n",
    "image = X_train[index].squeeze()\n",
    "plt.figure(figsize=(1,1))\n",
    "plt.xticks([])\n",
    "plt.yticks([])\n",
    "plt.imshow(image)\n",
    "\n",
    "# plot a histogram of how many of each class are in the training and testing sets\n",
    "bins = np.array(range(n_classes+1))\n",
    "hist, edges = np.histogram(y_train, bins)\n",
    "fig, ax = plt.subplots()\n",
    "plt.title(\"Training Data Counts\")\n",
    "rects1 = ax.bar(range(n_classes), hist, width = 0.5, color='b')\n",
    "\n"
   ]
  },
  {
   "cell_type": "markdown",
   "metadata": {},
   "source": [
    "----\n",
    "\n",
    "## Step 2: Design and Test a Model Architecture\n",
    "\n",
    "Design and implement a deep learning model that learns to recognize traffic signs. Train and test your model on the [German Traffic Sign Dataset](http://benchmark.ini.rub.de/?section=gtsrb&subsection=dataset).\n",
    "\n",
    "There are various aspects to consider when thinking about this problem:\n",
    "\n",
    "- Neural network architecture\n",
    "- Play around preprocessing techniques (normalization, rgb to grayscale, etc)\n",
    "- Number of examples per label (some have more than others).\n",
    "- Generate fake data.\n",
    "\n",
    "Here is an example of a [published baseline model on this problem](http://yann.lecun.com/exdb/publis/pdf/sermanet-ijcnn-11.pdf). It's not required to be familiar with the approach used in the paper but, it's good practice to try to read papers like these.\n",
    "\n",
    "**NOTE:** The LeNet-5 implementation shown in the [classroom](https://classroom.udacity.com/nanodegrees/nd013/parts/fbf77062-5703-404e-b60c-95b78b2f3f9e/modules/6df7ae49-c61c-4bb2-a23e-6527e69209ec/lessons/601ae704-1035-4287-8b11-e2c2716217ad/concepts/d4aca031-508f-4e0b-b493-e7b706120f81) at the end of the CNN lesson is a solid starting point. You'll have to change the number of classes and possibly the preprocessing, but aside from that it's plug and play!"
   ]
  },
  {
   "cell_type": "markdown",
   "metadata": {},
   "source": [
    "### Implementation\n",
    "\n",
    "Use the code cell (or multiple code cells, if necessary) to implement the first step of your project. Once you have completed your implementation and are satisfied with the results, be sure to thoroughly answer the questions that follow."
   ]
  },
  {
   "cell_type": "code",
   "execution_count": 4,
   "metadata": {
    "collapsed": false
   },
   "outputs": [
    {
     "name": "stdout",
     "output_type": "stream",
     "text": [
      "Training images to greyscale (39209, 32, 32, 1)\n",
      "Test     images to greyscale (12630, 32, 32, 1)\n"
     ]
    }
   ],
   "source": [
    "### Preprocess the data here.\n",
    "### Feel free to use as many code cells as needed.\n",
    "\n",
    "# Reading various sources it looks like grey scale does as well as \n",
    "# color data, and sometimes beter.  So to simplify the project\n",
    "# I will convert to greyscale images.\n",
    "import cv2\n",
    "\n",
    "# 1) convert the training data\n",
    "greyImages = []\n",
    "for i in range(len(X_train)):\n",
    "    greyImages.append(cv2.cvtColor(X_train[i], cv2.COLOR_RGB2GRAY) ) #grayscale conversion\n",
    "greyImages = np.array(greyImages)\n",
    "greyImages = greyImages.reshape(greyImages.shape + (1,)) # ensure we have 1-size color channel\n",
    "X_train = greyImages\n",
    "print(\"Training images to greyscale\", X_train.shape)\n",
    "\n",
    "# 2) convert the test data also\n",
    "greyTests = []\n",
    "for i in range(len(X_test)):\n",
    "    greyTests.append(cv2.cvtColor(X_test[i], cv2.COLOR_RGB2GRAY) ) #grayscale conversion\n",
    "greyTests = np.array(greyTests)\n",
    "greyTests = greyTests.reshape(greyTests.shape + (1,)) # ensure we have 1-size color channel\n",
    "X_test = greyTests\n",
    "print(\"Test     images to greyscale\", X_test.shape)"
   ]
  },
  {
   "cell_type": "markdown",
   "metadata": {},
   "source": [
    "### Question 1 \n",
    "\n",
    "_Describe how you preprocessed the data. Why did you choose that technique?_"
   ]
  },
  {
   "cell_type": "code",
   "execution_count": 5,
   "metadata": {
    "collapsed": false
   },
   "outputs": [],
   "source": [
    "# Add images to the training set\n",
    "\n",
    "# Any training images with fewer than 500 samples will need more samples.\n",
    "# This fucntion will take an image, rotate by +10 and -10 degrees.\n",
    "def addTrainingImages(inX, inY):\n",
    "    rotAngle = 10 # rotate each image by 10 degrees\n",
    "    size = image_shape[0]\n",
    "    center = size/2\n",
    "    rot_M1 = cv2.getRotationMatrix2D((center,center), rotAngle,1)\n",
    "    rot_M2 = cv2.getRotationMatrix2D((center,center),-rotAngle,1)\n",
    "    \n",
    "    numImages = len(inX)\n",
    "    numLabels = n_classes\n",
    "    bins = np.array(range(numLabels+1))\n",
    "    hist, edges = np.histogram(inY, bins)\n",
    "    \n",
    "    newImages = []\n",
    "    newLabels = []\n",
    "    for i in range(numLabels):\n",
    "        if hist[i] < 501:\n",
    "            # find indexes with this class name\n",
    "            indexes = np.where(inY == i)[0]\n",
    "            for ii in indexes:\n",
    "                imageRot = cv2.warpAffine(inX[ii],rot_M1,(size,size))\n",
    "                newImages.append(imageRot)\n",
    "                newLabels.append(i)\n",
    "                imageRot = cv2.warpAffine(inX[ii],rot_M2,(size,size))\n",
    "                newImages.append(imageRot)\n",
    "                newLabels.append(i)\n",
    "    \n",
    "    newImages = np.array(newImages)\n",
    "    newImages = newImages.reshape(newImages.shape + (1,)) # ensure we have 1 color channel\n",
    "    \n",
    "    X_full = np.append(inX, newImages, axis=0)\n",
    "    y_full = np.append(inY, newLabels, axis=0)\n",
    "    print(\"Images and labels added: \",len(X_full)-numImages)\n",
    "    return X_full, y_full\n"
   ]
  },
  {
   "cell_type": "markdown",
   "metadata": {},
   "source": [
    "**Answer:**"
   ]
  },
  {
   "cell_type": "code",
   "execution_count": 6,
   "metadata": {
    "collapsed": false
   },
   "outputs": [
    {
     "name": "stdout",
     "output_type": "stream",
     "text": [
      "Images and labels added:  11940\n",
      "Final Training   size:  48591\n",
      "Final Validation size:  2558\n",
      "Data shuffled\n"
     ]
    },
    {
     "data": {
      "image/png": "[encoded data removed]",
      "text/plain": [
       "<matplotlib.figure.Figure at 0x7fe3e22629b0>"
      ]
     },
     "metadata": {},
     "output_type": "display_data"
    }
   ],
   "source": [
    "### Generate data additional data (OPTIONAL!)\n",
    "### and split the data into training/validation/testing sets here.\n",
    "### Feel free to use as many code cells as needed.\n",
    "\n",
    "X_train, y_train = addTrainingImages(X_train, y_train)\n",
    "# compute updated histogram\n",
    "hist, edges = np.histogram(y_train, bins)\n",
    "fig, ax = plt.subplots()\n",
    "plt.title(\"Updated Training Counts\")\n",
    "rects1 = ax.bar(range(n_classes), hist, width = 0.5, color='g')\n",
    "\n",
    "\n",
    "# Now we will split the training data into training and validation sets\n",
    "VAL_RATIO = 0.05\n",
    "\n",
    "from sklearn.utils import shuffle\n",
    "from sklearn.model_selection import train_test_split\n",
    "\n",
    "X_train, X_validation, y_train, y_validation = train_test_split(X_train, y_train, test_size=VAL_RATIO, random_state=15)\n",
    "print(\"Final Training   size: \", len(X_train))\n",
    "print(\"Final Validation size: \", len(X_validation))\n",
    "\n",
    "\n",
    "\n",
    "# To aviod training on the order of our images, we will also shuffle\n",
    "# the training set\n",
    "X_train, y_train = shuffle(X_train, y_train)\n",
    "print(\"Data shuffled\")"
   ]
  },
  {
   "cell_type": "markdown",
   "metadata": {},
   "source": [
    "### Question 2\n",
    "\n",
    "_Describe how you set up the training, validation and testing data for your model. **Optional**: If you generated additional data, how did you generate the data? Why did you generate the data? What are the differences in the new dataset (with generated data) from the original dataset?_"
   ]
  },
  {
   "cell_type": "markdown",
   "metadata": {},
   "source": [
    "**Answer:**"
   ]
  },
  {
   "cell_type": "code",
   "execution_count": 7,
   "metadata": {
    "collapsed": true
   },
   "outputs": [],
   "source": [
    "### Define your architecture here.\n",
    "### Feel free to use as many code cells as needed.\n",
    "import tensorflow as tf\n",
    "from tensorflow.contrib.layers import flatten\n",
    "\n",
    "# global settings\n",
    "MU = 0\n",
    "SIGMA = 0.05\n",
    "EPOCHS = 25\n",
    "BATCH_SIZE = 128\n",
    "FILTER_SIZE = 5\n",
    "LEARNING_RATE = 0.001\n",
    "\n",
    "# convenience function to generate a convolutional variable\n",
    "def genConvVar(filter_size, depth1, depth2):\n",
    "    return tf.Variable(tf.truncated_normal([filter_size, filter_size, depth1, depth2], mean=MU, stddev=SIGMA))\n",
    "\n",
    "# convenience function to generate a flat matrix variable\n",
    "def genFlatVar(depth1, depth2):\n",
    "    return tf.Variable(tf.truncated_normal([depth1, depth2], mean=MU, stddev=SIGMA))"
   ]
  },
  {
   "cell_type": "code",
   "execution_count": 8,
   "metadata": {
    "collapsed": false
   },
   "outputs": [],
   "source": [
    "# Network inputs\n",
    "\n",
    "layer_depths = {\n",
    "    'layer_0': 1, # starting with 1 color (greyscale)\n",
    "    'layer_1': 12,\n",
    "    'layer_2': 24,\n",
    "    'layer_3': 120,\n",
    "    'layer_4': 84,\n",
    "    'layer_5': n_classes\n",
    "}\n",
    "layer_2_flat_size = FILTER_SIZE*FILTER_SIZE * layer_depths['layer_2']\n",
    "\n",
    "weights = {\n",
    "    'layer_1': genConvVar(FILTER_SIZE, layer_depths['layer_0'], layer_depths['layer_1']),\n",
    "    'layer_2': genConvVar(FILTER_SIZE, layer_depths['layer_1'], layer_depths['layer_2']),\n",
    "    'layer_3': genFlatVar(layer_2_flat_size,      layer_depths['layer_3']),\n",
    "    'layer_4': genFlatVar(layer_depths['layer_3'], layer_depths['layer_4']),\n",
    "    'layer_5': genFlatVar(layer_depths['layer_4'], layer_depths['layer_5'])\n",
    "}\n",
    "biases = {\n",
    "    'layer_1': tf.Variable(tf.zeros(layer_depths['layer_1'])),\n",
    "    'layer_2': tf.Variable(tf.zeros(layer_depths['layer_2'])),\n",
    "    'layer_3': tf.Variable(tf.zeros(layer_depths['layer_3'])),\n",
    "    'layer_4': tf.Variable(tf.zeros(layer_depths['layer_4'])),\n",
    "    'layer_5': tf.Variable(tf.zeros(layer_depths['layer_5']))\n",
    "}"
   ]
  },
  {
   "cell_type": "code",
   "execution_count": 9,
   "metadata": {
    "collapsed": true
   },
   "outputs": [],
   "source": [
    "# Model definition\n",
    "\n",
    "strides_NN   = [1,1,1,1]\n",
    "strides_Pool = [1,2,2,1]\n",
    "\n",
    "def LeNet(x):\n",
    "    # Layer 1: Convolution.\n",
    "    x = tf.nn.conv2d(x, weights['layer_1'], strides=strides_NN, padding='VALID')\n",
    "    x = tf.nn.bias_add(x, biases['layer_1'])\n",
    "    x = tf.nn.relu(x)# Activation.\n",
    "    lay1_out = tf.nn.max_pool(x, ksize=strides_Pool, strides=strides_Pool, padding='VALID')\n",
    "    \n",
    "    # Layer 2: Convolution.\n",
    "    x = tf.nn.conv2d(lay1_out, weights['layer_2'], strides=strides_NN, padding='VALID')\n",
    "    x = tf.nn.bias_add(x, biases['layer_2'])\n",
    "    x = tf.nn.relu(x) # Activation.\n",
    "    lay2_out = tf.nn.max_pool(x, ksize=strides_Pool, strides=strides_Pool, padding='VALID')\n",
    "    # Flatten for next layer\n",
    "    lay2_flat = tf.contrib.layers.flatten(lay2_out)\n",
    "    \n",
    "    # Layer 3: Fully Connected.\n",
    "    x = tf.add(tf.matmul(lay2_flat, weights['layer_3']), biases['layer_3'])\n",
    "    lay3_out = tf.nn.relu(x)# Activation.\n",
    "\n",
    "    # Layer 4: Fully Connected.\n",
    "    x = tf.add(tf.matmul(lay3_out, weights['layer_4']), biases['layer_4'])\n",
    "    lay4_out = tf.nn.relu(x)# Activation.\n",
    "\n",
    "    # Layer 5: Fully Connected. Final\n",
    "    logits = tf.add(tf.matmul(lay4_out, weights['layer_5']), biases['layer_5'])\n",
    "    \n",
    "    return logits\n",
    "    "
   ]
  },
  {
   "cell_type": "code",
   "execution_count": 10,
   "metadata": {
    "collapsed": true
   },
   "outputs": [],
   "source": [
    "# Set up input variables\n",
    "x = tf.placeholder(tf.float32, (None, 32, 32, 1))\n",
    "y = tf.placeholder(tf.int32, (None))\n",
    "one_hot_y = tf.one_hot(y, n_classes)"
   ]
  },
  {
   "cell_type": "code",
   "execution_count": 11,
   "metadata": {
    "collapsed": false
   },
   "outputs": [],
   "source": [
    "# Set up the training pipeline\n",
    "logits = LeNet(x)\n",
    "cross_entropy = tf.nn.softmax_cross_entropy_with_logits(logits, one_hot_y)\n",
    "loss_operation = tf.reduce_mean(cross_entropy)\n",
    "optimizer = tf.train.AdamOptimizer(learning_rate = LEARNING_RATE)\n",
    "training_operation = optimizer.minimize(loss_operation)"
   ]
  },
  {
   "cell_type": "code",
   "execution_count": 12,
   "metadata": {
    "collapsed": true
   },
   "outputs": [],
   "source": [
    "# set up training evaluation system\n",
    "correct_prediction = tf.equal(tf.argmax(logits, 1), tf.argmax(one_hot_y, 1))\n",
    "accuracy_operation = tf.reduce_mean(tf.cast(correct_prediction, tf.float32))\n",
    "saver = tf.train.Saver()\n",
    "\n",
    "def evaluate(X_data, y_data):\n",
    "    num_examples = len(X_data)\n",
    "    total_accuracy = 0\n",
    "    sess = tf.get_default_session()\n",
    "    for offset in range(0, num_examples, BATCH_SIZE):\n",
    "        batch_x, batch_y = X_data[offset:offset+BATCH_SIZE], y_data[offset:offset+BATCH_SIZE]\n",
    "        accuracy = sess.run(accuracy_operation, feed_dict={x: batch_x, y: batch_y})\n",
    "        total_accuracy += (accuracy * len(batch_x))\n",
    "    return total_accuracy / num_examples"
   ]
  },
  {
   "cell_type": "markdown",
   "metadata": {},
   "source": [
    "### Question 3\n",
    "\n",
    "_What does your final architecture look like? (Type of model, layers, sizes, connectivity, etc.)  For reference on how to build a deep neural network using TensorFlow, see [Deep Neural Network in TensorFlow\n",
    "](https://classroom.udacity.com/nanodegrees/nd013/parts/fbf77062-5703-404e-b60c-95b78b2f3f9e/modules/6df7ae49-c61c-4bb2-a23e-6527e69209ec/lessons/b516a270-8600-4f93-a0a3-20dfeabe5da6/concepts/83a3a2a2-a9bd-4b7b-95b0-eb924ab14432) from the classroom._\n"
   ]
  },
  {
   "cell_type": "markdown",
   "metadata": {},
   "source": [
    "**Answer:**"
   ]
  },
  {
   "cell_type": "code",
   "execution_count": 13,
   "metadata": {
    "collapsed": false
   },
   "outputs": [
    {
     "name": "stdout",
     "output_type": "stream",
     "text": [
      "Training...\n",
      "\n",
      "EPOCH 1 ...\n",
      "Validation Accuracy = 0.914\n",
      "\n",
      "EPOCH 2 ...\n",
      "Validation Accuracy = 0.961\n",
      "\n",
      "EPOCH 3 ...\n",
      "Validation Accuracy = 0.965\n",
      "\n",
      "EPOCH 4 ...\n",
      "Validation Accuracy = 0.976\n",
      "\n",
      "EPOCH 5 ...\n",
      "Validation Accuracy = 0.975\n",
      "\n",
      "EPOCH 6 ...\n",
      "Validation Accuracy = 0.972\n",
      "\n",
      "EPOCH 7 ...\n",
      "Validation Accuracy = 0.982\n",
      "\n",
      "EPOCH 8 ...\n",
      "Validation Accuracy = 0.978\n",
      "\n",
      "EPOCH 9 ...\n",
      "Validation Accuracy = 0.980\n",
      "\n",
      "EPOCH 10 ...\n",
      "Validation Accuracy = 0.974\n",
      "\n",
      "EPOCH 11 ...\n",
      "Validation Accuracy = 0.986\n",
      "\n",
      "EPOCH 12 ...\n",
      "Validation Accuracy = 0.981\n",
      "\n",
      "EPOCH 13 ...\n",
      "Validation Accuracy = 0.985\n",
      "\n",
      "EPOCH 14 ...\n",
      "Validation Accuracy = 0.986\n",
      "\n",
      "EPOCH 15 ...\n",
      "Validation Accuracy = 0.988\n",
      "\n",
      "EPOCH 16 ...\n",
      "Validation Accuracy = 0.987\n",
      "\n",
      "EPOCH 17 ...\n",
      "Validation Accuracy = 0.985\n",
      "\n",
      "EPOCH 18 ...\n",
      "Validation Accuracy = 0.984\n",
      "\n",
      "EPOCH 19 ...\n",
      "Validation Accuracy = 0.989\n",
      "\n",
      "EPOCH 20 ...\n",
      "Validation Accuracy = 0.984\n",
      "\n",
      "EPOCH 21 ...\n",
      "Validation Accuracy = 0.985\n",
      "\n",
      "EPOCH 22 ...\n",
      "Validation Accuracy = 0.978\n",
      "\n",
      "EPOCH 23 ...\n",
      "Validation Accuracy = 0.983\n",
      "\n",
      "EPOCH 24 ...\n",
      "Validation Accuracy = 0.991\n",
      "\n",
      "EPOCH 25 ...\n",
      "Validation Accuracy = 0.986\n",
      "\n",
      "Model saved\n"
     ]
    }
   ],
   "source": [
    "### Train your model here.\n",
    "### Feel free to use as many code cells as needed.\n",
    "\n",
    "with tf.Session() as sess:\n",
    "    sess.run(tf.global_variables_initializer())\n",
    "    num_examples = len(X_train)\n",
    "    \n",
    "    print(\"Training...\")\n",
    "    print()\n",
    "    for i in range(EPOCHS):\n",
    "        batch_i = 0\n",
    "        X_train, y_train = shuffle(X_train, y_train)\n",
    "        for offset in range(0, num_examples, BATCH_SIZE):\n",
    "            batch_i += 1\n",
    "            end = offset + BATCH_SIZE\n",
    "            batch_x, batch_y = X_train[offset:end], y_train[offset:end]\n",
    "            sess.run(training_operation, feed_dict={x: batch_x, y: batch_y})\n",
    "            \n",
    "        validation_accuracy = evaluate(X_validation, y_validation)\n",
    "        print(\"EPOCH {} ...\".format(i+1))\n",
    "        print(\"Validation Accuracy = {:.3f}\".format(validation_accuracy))\n",
    "        print()\n",
    "        \n",
    "    saver.save(sess, 'lenet')\n",
    "    print(\"Model saved\")"
   ]
  },
  {
   "cell_type": "code",
   "execution_count": 14,
   "metadata": {
    "collapsed": false
   },
   "outputs": [
    {
     "name": "stdout",
     "output_type": "stream",
     "text": [
      "Test Accuracy = 0.936\n"
     ]
    }
   ],
   "source": [
    "with tf.Session() as sess:\n",
    "    saver.restore(sess, tf.train.latest_checkpoint('.'))\n",
    "\n",
    "    test_accuracy = evaluate(X_test, y_test)\n",
    "    print(\"Test Accuracy = {:.3f}\".format(test_accuracy))"
   ]
  },
  {
   "cell_type": "markdown",
   "metadata": {},
   "source": [
    "### Question 4\n",
    "\n",
    "_How did you train your model? (Type of optimizer, batch size, epochs, hyperparameters, etc.)_\n"
   ]
  },
  {
   "cell_type": "markdown",
   "metadata": {},
   "source": [
    "**Answer:**"
   ]
  },
  {
   "cell_type": "markdown",
   "metadata": {},
   "source": [
    "### Question 5\n",
    "\n",
    "\n",
    "_What approach did you take in coming up with a solution to this problem? It may have been a process of trial and error, in which case, outline the steps you took to get to the final solution and why you chose those steps. Perhaps your solution involved an already well known implementation or architecture. In this case, discuss why you think this is suitable for the current problem._"
   ]
  },
  {
   "cell_type": "markdown",
   "metadata": {},
   "source": [
    "**Answer:**"
   ]
  },
  {
   "cell_type": "markdown",
   "metadata": {},
   "source": [
    "---\n",
    "\n",
    "## Step 3: Test a Model on New Images\n",
    "\n",
    "Take several pictures of traffic signs that you find on the web or around you (at least five), and run them through your classifier on your computer to produce example results. The classifier might not recognize some local signs but it could prove interesting nonetheless.\n",
    "\n",
    "You may find `signnames.csv` useful as it contains mappings from the class id (integer) to the actual sign name."
   ]
  },
  {
   "cell_type": "markdown",
   "metadata": {},
   "source": [
    "### Implementation\n",
    "\n",
    "Use the code cell (or multiple code cells, if necessary) to implement the first step of your project. Once you have completed your implementation and are satisfied with the results, be sure to thoroughly answer the questions that follow."
   ]
  },
  {
   "cell_type": "code",
   "execution_count": 15,
   "metadata": {
    "collapsed": true
   },
   "outputs": [],
   "source": [
    "### Load the images and plot them here.\n",
    "### Feel free to use as many code cells as needed."
   ]
  },
  {
   "cell_type": "markdown",
   "metadata": {},
   "source": [
    "### Question 6\n",
    "\n",
    "_Choose five candidate images of traffic signs and provide them in the report. Are there any particular qualities of the image(s) that might make classification difficult? It could be helpful to plot the images in the notebook._\n",
    "\n"
   ]
  },
  {
   "cell_type": "markdown",
   "metadata": {},
   "source": [
    "**Answer:**"
   ]
  },
  {
   "cell_type": "code",
   "execution_count": 16,
   "metadata": {
    "collapsed": true
   },
   "outputs": [],
   "source": [
    "### Run the predictions here.\n",
    "### Feel free to use as many code cells as needed."
   ]
  },
  {
   "cell_type": "markdown",
   "metadata": {},
   "source": [
    "### Question 7\n",
    "\n",
    "_Is your model able to perform equally well on captured pictures when compared to testing on the dataset? The simplest way to do this check the accuracy of the predictions. For example, if the model predicted 1 out of 5 signs correctly, it's 20% accurate._\n",
    "\n",
    "_**NOTE:** You could check the accuracy manually by using `signnames.csv` (same directory). This file has a mapping from the class id (0-42) to the corresponding sign name. So, you could take the class id the model outputs, lookup the name in `signnames.csv` and see if it matches the sign from the image._\n"
   ]
  },
  {
   "cell_type": "markdown",
   "metadata": {},
   "source": [
    "**Answer:**"
   ]
  },
  {
   "cell_type": "code",
   "execution_count": 17,
   "metadata": {
    "collapsed": true
   },
   "outputs": [],
   "source": [
    "### Visualize the softmax probabilities here.\n",
    "### Feel free to use as many code cells as needed."
   ]
  },
  {
   "cell_type": "markdown",
   "metadata": {},
   "source": [
    "### Question 8\n",
    "\n",
    "*Use the model's softmax probabilities to visualize the **certainty** of its predictions, [`tf.nn.top_k`](https://www.tensorflow.org/versions/r0.12/api_docs/python/nn.html#top_k) could prove helpful here. Which predictions is the model certain of? Uncertain? If the model was incorrect in its initial prediction, does the correct prediction appear in the top k? (k should be 5 at most)*\n",
    "\n",
    "`tf.nn.top_k` will return the values and indices (class ids) of the top k predictions. So if k=3, for each sign, it'll return the 3 largest probabilities (out of a possible 43) and the correspoding class ids.\n",
    "\n",
    "Take this numpy array as an example:\n",
    "\n",
    "```\n",
    "# (5, 6) array\n",
    "a = np.array([[ 0.24879643,  0.07032244,  0.12641572,  0.34763842,  0.07893497,\n",
    "         0.12789202],\n",
    "       [ 0.28086119,  0.27569815,  0.08594638,  0.0178669 ,  0.18063401,\n",
    "         0.15899337],\n",
    "       [ 0.26076848,  0.23664738,  0.08020603,  0.07001922,  0.1134371 ,\n",
    "         0.23892179],\n",
    "       [ 0.11943333,  0.29198961,  0.02605103,  0.26234032,  0.1351348 ,\n",
    "         0.16505091],\n",
    "       [ 0.09561176,  0.34396535,  0.0643941 ,  0.16240774,  0.24206137,\n",
    "         0.09155967]])\n",
    "```\n",
    "\n",
    "Running it through `sess.run(tf.nn.top_k(tf.constant(a), k=3))` produces:\n",
    "\n",
    "```\n",
    "TopKV2(values=array([[ 0.34763842,  0.24879643,  0.12789202],\n",
    "       [ 0.28086119,  0.27569815,  0.18063401],\n",
    "       [ 0.26076848,  0.23892179,  0.23664738],\n",
    "       [ 0.29198961,  0.26234032,  0.16505091],\n",
    "       [ 0.34396535,  0.24206137,  0.16240774]]), indices=array([[3, 0, 5],\n",
    "       [0, 1, 4],\n",
    "       [0, 5, 1],\n",
    "       [1, 3, 5],\n",
    "       [1, 4, 3]], dtype=int32))\n",
    "```\n",
    "\n",
    "Looking just at the first row we get `[ 0.34763842,  0.24879643,  0.12789202]`, you can confirm these are the 3 largest probabilities in `a`. You'll also notice `[3, 0, 5]` are the corresponding indices."
   ]
  },
  {
   "cell_type": "markdown",
   "metadata": {},
   "source": [
    "**Answer:**"
   ]
  },
  {
   "cell_type": "markdown",
   "metadata": {},
   "source": [
    "> **Note**: Once you have completed all of the code implementations and successfully answered each question above, you may finalize your work by exporting the iPython Notebook as an HTML document. You can do this by using the menu above and navigating to  \\n\",\n",
    "    \"**File -> Download as -> HTML (.html)**. Include the finished document along with this notebook as your submission."
   ]
  },
  {
   "cell_type": "code",
   "execution_count": null,
   "metadata": {
    "collapsed": true
   },
   "outputs": [],
   "source": []
  }
 ],
 "metadata": {
  "anaconda-cloud": {},
  "kernelspec": {
   "display_name": "Python 3",
   "language": "python",
   "name": "python3"
  },
  "language_info": {
   "codemirror_mode": {
    "name": "ipython",
    "version": 3
   },
   "file_extension": ".py",
   "mimetype": "text/x-python",
   "name": "python",
   "nbconvert_exporter": "python",
   "pygments_lexer": "ipython3",
   "version": "3.5.2"
  },
  "widgets": {
   "state": {},
   "version": "1.1.2"
  }
 },
 "nbformat": 4,
 "nbformat_minor": 1
}
